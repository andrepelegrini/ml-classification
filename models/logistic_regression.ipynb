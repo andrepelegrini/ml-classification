{
 "cells": [
  {
   "cell_type": "code",
   "execution_count": 1,
   "id": "489b9045",
   "metadata": {},
   "outputs": [],
   "source": [
    "import pandas as pd\n",
    "import numpy as np\n",
    "import matplotlib.pyplot as plt\n",
    "import seaborn as sns\n",
    "\n",
    "# Data preparation and validation libraries\n",
    "from sklearn.model_selection import train_test_split\n",
    "from sklearn.metrics import precision_score\n",
    "from imblearn.over_sampling import SMOTE \n",
    "from sklearn.preprocessing import StandardScaler\n",
    "\n",
    "# Classifier libraries\n",
    "from sklearn.linear_model import LogisticRegression"
   ]
  },
  {
   "cell_type": "code",
   "execution_count": 2,
   "id": "5477dad3",
   "metadata": {},
   "outputs": [],
   "source": [
    "df = pd.read_csv('winequality-red.csv')"
   ]
  },
  {
   "cell_type": "code",
   "execution_count": 3,
   "id": "84a7eaf2",
   "metadata": {},
   "outputs": [],
   "source": [
    "df['quality'] = np.where(df['quality'] >= 7, 1, 0)"
   ]
  },
  {
   "cell_type": "markdown",
   "id": "953ee33f",
   "metadata": {},
   "source": [
    "### Preprocessing"
   ]
  },
  {
   "cell_type": "code",
   "execution_count": 4,
   "id": "3177c7b2",
   "metadata": {},
   "outputs": [
    {
     "name": "stdout",
     "output_type": "stream",
     "text": [
      "Train size:  (1279, 12)\n",
      "Test size:  (320, 12)\n"
     ]
    }
   ],
   "source": [
    "X_train, X_test = train_test_split(df, test_size=0.20, random_state=42)\n",
    "print(\"Train size: \", X_train.shape)\n",
    "print(\"Test size: \", X_test.shape)"
   ]
  },
  {
   "cell_type": "code",
   "execution_count": 5,
   "id": "b3c92e59",
   "metadata": {},
   "outputs": [],
   "source": [
    "def oversample_dataset(data):\n",
    "    X = data.drop(columns={'quality'})\n",
    "    y = data['quality']\n",
    "    \n",
    "    sm = SMOTE(random_state=42)\n",
    "    \n",
    "    X_sm, y_sm = sm.fit_resample(X, y)\n",
    "    sm_df = pd.concat([X_sm, y_sm], axis=1)\n",
    "    \n",
    "    return sm_df\n",
    "\n",
    "X_train_sm = oversample_dataset(X_train)"
   ]
  },
  {
   "cell_type": "code",
   "execution_count": 6,
   "id": "1cdbe8a0",
   "metadata": {},
   "outputs": [
    {
     "name": "stdout",
     "output_type": "stream",
     "text": [
      "Train size:  (2218, 11)\n",
      "Test size:  (320, 11)\n"
     ]
    }
   ],
   "source": [
    "y_train = X_train_sm['quality']\n",
    "y_test = X_test['quality']\n",
    "X_train = X_train_sm.drop(columns={'quality'})\n",
    "X_test = X_test.drop(columns={'quality'})\n",
    "\n",
    "print(\"Train size: \", X_train.shape)\n",
    "print(\"Test size: \", X_test.shape)"
   ]
  },
  {
   "cell_type": "code",
   "execution_count": 7,
   "id": "a7688468",
   "metadata": {},
   "outputs": [],
   "source": [
    "scaler = StandardScaler()\n",
    "\n",
    "scaler.fit(X_train)\n",
    "X_train_scaled = scaler.transform(X_train)\n",
    "\n",
    "X_test_scaled = scaler.transform(X_test)"
   ]
  },
  {
   "cell_type": "markdown",
   "id": "54e5c7ee",
   "metadata": {},
   "source": [
    "### Model"
   ]
  },
  {
   "cell_type": "code",
   "execution_count": 11,
   "id": "1635e9ff",
   "metadata": {},
   "outputs": [
    {
     "data": {
      "text/plain": [
       "<AxesSubplot:title={'center':'Penalties vs Precision'}, xlabel='Penalties', ylabel='Precision'>"
      ]
     },
     "execution_count": 11,
     "metadata": {},
     "output_type": "execute_result"
    },
    {
     "data": {
      "image/png": "[encoded data removed]",
      "text/plain": [
       "<Figure size 720x576 with 1 Axes>"
      ]
     },
     "metadata": {
      "needs_background": "light"
     },
     "output_type": "display_data"
    }
   ],
   "source": [
    "scores = []\n",
    "penalty_score = []\n",
    "\n",
    "penalties = ['l2', 'none']\n",
    "\n",
    "for i in penalties:    \n",
    "    model = LogisticRegression(penalty=i)\n",
    "    model.fit(X_train_scaled, y_train)\n",
    "    y_pred = model.predict(X_test_scaled)\n",
    "    score = precision_score(y_test, y_pred)\n",
    "    scores.append(score)\n",
    "    penalty_score.append([i, score])\n",
    "    \n",
    "plt.figure(figsize=(10,8))\n",
    "plt.title(\"Penalties vs Precision\")\n",
    "plt.xlabel(\"Penalties\")\n",
    "plt.ylabel(\"Precision\")\n",
    "pd.Series(scores, penalties).plot(kind='bar', color='#50589F')"
   ]
  },
  {
   "cell_type": "code",
   "execution_count": 12,
   "id": "ab48dfc6",
   "metadata": {},
   "outputs": [
    {
     "name": "stdout",
     "output_type": "stream",
     "text": [
      "penalty: l2\n"
     ]
    }
   ],
   "source": [
    "id_penalty = pd.DataFrame(penalty_score, columns=['feature', 'score'])['score'].idxmax()\n",
    "penalty = pd.DataFrame(penalty_score, columns=['feature', 'score'])['feature'][id_penalty]\n",
    "print(\"penalty:\", penalty)"
   ]
  },
  {
   "cell_type": "code",
   "execution_count": 13,
   "id": "df5be4dc",
   "metadata": {},
   "outputs": [],
   "source": [
    "def logistic_regression_features(X_train, X_test, y_train, y_test):\n",
    "\n",
    "    penalty_score = []\n",
    "\n",
    "    penalties = ['l2', 'none']\n",
    "\n",
    "    for i in penalties:    \n",
    "        model = LogisticRegression(penalty=i)\n",
    "        model.fit(X_train_scaled, y_train)\n",
    "        y_pred = model.predict(X_test_scaled)\n",
    "        score = precision_score(y_test, y_pred)\n",
    "        penalty_score.append([i, score])\n",
    "\n",
    "        \n",
    "    id_penalty = pd.DataFrame(penalty_score, columns=['feature', 'score'])['score'].idxmax()\n",
    "    penalty = pd.DataFrame(penalty_score, columns=['feature', 'score'])['feature'][id_penalty]\n",
    "    \n",
    "    response = {\n",
    "        \"penalty\": penalty\n",
    "    }\n",
    "        \n",
    "    return response"
   ]
  },
  {
   "cell_type": "code",
   "execution_count": 14,
   "id": "6dd3eafc",
   "metadata": {},
   "outputs": [
    {
     "data": {
      "text/plain": [
       "{'penalty': 'l2'}"
      ]
     },
     "execution_count": 14,
     "metadata": {},
     "output_type": "execute_result"
    }
   ],
   "source": [
    "logistic_regression_features(X_train_scaled, X_test_scaled, y_train, y_test)"
   ]
  }
 ],
 "metadata": {
  "kernelspec": {
   "display_name": "Python 3 (ipykernel)",
   "language": "python",
   "name": "python3"
  },
  "language_info": {
   "codemirror_mode": {
    "name": "ipython",
    "version": 3
   },
   "file_extension": ".py",
   "mimetype": "text/x-python",
   "name": "python",
   "nbconvert_exporter": "python",
   "pygments_lexer": "ipython3",
   "version": "3.8.8"
  }
 },
 "nbformat": 4,
 "nbformat_minor": 5
}
