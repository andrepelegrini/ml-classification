{
 "cells": [
  {
   "cell_type": "code",
   "execution_count": 14,
   "id": "489b9045",
   "metadata": {},
   "outputs": [],
   "source": [
    "import pandas as pd\n",
    "import numpy as np\n",
    "import matplotlib.pyplot as plt\n",
    "import seaborn as sns\n",
    "\n",
    "# Data preparation and validation libraries\n",
    "from sklearn.model_selection import train_test_split\n",
    "from sklearn.metrics import precision_score\n",
    "from imblearn.over_sampling import SMOTE\n",
    "from sklearn.preprocessing import StandardScaler\n",
    "\n",
    "# Classifier libraries\n",
    "from sklearn.ensemble import RandomForestClassifier"
   ]
  },
  {
   "cell_type": "code",
   "execution_count": 15,
   "id": "f5019c86",
   "metadata": {},
   "outputs": [],
   "source": [
    "df = pd.read_csv('winequality-red.csv')"
   ]
  },
  {
   "cell_type": "code",
   "execution_count": 16,
   "id": "8e9db68b",
   "metadata": {},
   "outputs": [],
   "source": [
    "df['quality'] = np.where(df['quality'] >= 7, 1, 0)"
   ]
  },
  {
   "cell_type": "markdown",
   "id": "76e375ca",
   "metadata": {},
   "source": [
    "### Preprocessing"
   ]
  },
  {
   "cell_type": "code",
   "execution_count": 17,
   "id": "75c6be9e",
   "metadata": {},
   "outputs": [
    {
     "name": "stdout",
     "output_type": "stream",
     "text": [
      "Train size:  (1279, 12)\n",
      "Test size:  (320, 12)\n"
     ]
    }
   ],
   "source": [
    "X_train, X_test = train_test_split(df, test_size=0.20, random_state=42)\n",
    "print(\"Train size: \", X_train.shape)\n",
    "print(\"Test size: \", X_test.shape)"
   ]
  },
  {
   "cell_type": "code",
   "execution_count": 18,
   "id": "9b5730fc",
   "metadata": {},
   "outputs": [],
   "source": [
    "def oversample_dataset(data):\n",
    "    X = data.drop(columns={'quality'})\n",
    "    y = data['quality']\n",
    "    \n",
    "    sm = SMOTE(random_state=42)\n",
    "    \n",
    "    X_sm, y_sm = sm.fit_resample(X, y)\n",
    "    sm_df = pd.concat([X_sm, y_sm], axis=1)\n",
    "    \n",
    "    return sm_df\n",
    "\n",
    "X_train_sm = oversample_dataset(X_train)"
   ]
  },
  {
   "cell_type": "code",
   "execution_count": 19,
   "id": "509ee4af",
   "metadata": {},
   "outputs": [
    {
     "name": "stdout",
     "output_type": "stream",
     "text": [
      "Train size:  (2218, 11)\n",
      "Test size:  (320, 11)\n"
     ]
    }
   ],
   "source": [
    "y_train = X_train_sm['quality']\n",
    "y_test = X_test['quality']\n",
    "X_train = X_train_sm.drop(columns={'quality'})\n",
    "X_test = X_test.drop(columns={'quality'})\n",
    "\n",
    "print(\"Train size: \", X_train.shape)\n",
    "print(\"Test size: \", X_test.shape)"
   ]
  },
  {
   "cell_type": "code",
   "execution_count": 20,
   "id": "88ab8427",
   "metadata": {},
   "outputs": [],
   "source": [
    "scaler = StandardScaler()\n",
    "\n",
    "scaler.fit(X_train)\n",
    "X_train_scaled = scaler.transform(X_train)\n",
    "\n",
    "X_test_scaled = scaler.transform(X_test)"
   ]
  },
  {
   "cell_type": "markdown",
   "id": "867a805f",
   "metadata": {},
   "source": [
    "### Model"
   ]
  },
  {
   "cell_type": "code",
   "execution_count": 22,
   "id": "e9d021b2",
   "metadata": {},
   "outputs": [
    {
     "data": {
      "text/plain": [
       "<AxesSubplot:title={'center':'n Trees vs Precision'}, xlabel='n Trees', ylabel='Precision'>"
      ]
     },
     "execution_count": 22,
     "metadata": {},
     "output_type": "execute_result"
    },
    {
     "data": {
      "image/png": "[encoded data removed]",
      "text/plain": [
       "<Figure size 720x576 with 1 Axes>"
      ]
     },
     "metadata": {
      "needs_background": "light"
     },
     "output_type": "display_data"
    }
   ],
   "source": [
    "scores = []\n",
    "estimators_score = []\n",
    "\n",
    "n_estimators = [10, 20, 30, 50, 100, 200, 300, 400, 500, 1000]\n",
    "\n",
    "for i in n_estimators:    \n",
    "    model = RandomForestClassifier(i, n_jobs=-1, random_state=42)\n",
    "    model.fit(X_train_scaled, y_train)\n",
    "    y_pred = model.predict(X_test_scaled)\n",
    "    score = precision_score(y_test, y_pred)\n",
    "    scores.append(score)\n",
    "    estimators_score.append([i, score])\n",
    "    \n",
    "plt.figure(figsize=(10,8))\n",
    "plt.title(\"n Trees vs Precision\")\n",
    "plt.xlabel(\"n Trees\")\n",
    "plt.ylabel(\"Precision\")\n",
    "pd.Series(scores, n_estimators).plot(kind='bar', color='#50589F')"
   ]
  },
  {
   "cell_type": "code",
   "execution_count": 23,
   "id": "6c6b9dc7",
   "metadata": {},
   "outputs": [
    {
     "name": "stdout",
     "output_type": "stream",
     "text": [
      "n_estimators: 20\n"
     ]
    }
   ],
   "source": [
    "id_n = pd.DataFrame(estimators_score, columns=['feature', 'score'])['score'].idxmax()\n",
    "n_estimator = pd.DataFrame(estimators_score, columns=['feature', 'score'])['feature'][id_n]\n",
    "print(\"n_estimators:\", n_estimator)"
   ]
  },
  {
   "cell_type": "code",
   "execution_count": 25,
   "id": "35a6424f",
   "metadata": {},
   "outputs": [
    {
     "data": {
      "text/plain": [
       "<AxesSubplot:title={'center':'Max Features vs Precision'}, xlabel='Max Features', ylabel='Precision'>"
      ]
     },
     "execution_count": 25,
     "metadata": {},
     "output_type": "execute_result"
    },
    {
     "data": {
      "image/png": "[encoded data removed]",
      "text/plain": [
       "<Figure size 720x576 with 1 Axes>"
      ]
     },
     "metadata": {
      "needs_background": "light"
     },
     "output_type": "display_data"
    }
   ],
   "source": [
    "scores = []\n",
    "features_score = []\n",
    "\n",
    "max_features = ['auto', None, 'sqrt', 0.95, 0.75, 0.5, 0.25, 0.10]\n",
    "\n",
    "for i in max_features:    \n",
    "    model = RandomForestClassifier(max_features=i, n_jobs=-1, random_state=42)\n",
    "    model.fit(X_train_scaled, y_train)\n",
    "    y_pred = model.predict(X_test_scaled)\n",
    "    score = precision_score(y_test, y_pred)\n",
    "    scores.append(score)\n",
    "    features_score.append([i, score])\n",
    "    \n",
    "plt.figure(figsize=(10,8))\n",
    "plt.title(\"Max Features vs Precision\")\n",
    "plt.xlabel(\"Max Features\")\n",
    "plt.ylabel(\"Precision\")\n",
    "pd.Series(scores, max_features).plot(kind='bar', color='#50589F')"
   ]
  },
  {
   "cell_type": "code",
   "execution_count": 27,
   "id": "2f3bbed2",
   "metadata": {},
   "outputs": [
    {
     "name": "stdout",
     "output_type": "stream",
     "text": [
      "max_features: auto\n"
     ]
    }
   ],
   "source": [
    "id_feature = pd.DataFrame(features_score, columns=['feature', 'score'])['score'].idxmax()\n",
    "max_feature = pd.DataFrame(features_score, columns=['feature', 'score'])['feature'][id_feature]\n",
    "print(\"max_features:\", max_feature)"
   ]
  },
  {
   "cell_type": "code",
   "execution_count": 31,
   "id": "bc3be92e",
   "metadata": {},
   "outputs": [
    {
     "data": {
      "text/plain": [
       "<AxesSubplot:title={'center':'Min Samples Leaf vs Precision'}, xlabel='Min Samples Leaf', ylabel='Precision'>"
      ]
     },
     "execution_count": 31,
     "metadata": {},
     "output_type": "execute_result"
    },
    {
     "data": {
      "image/png": "[encoded data removed]",
      "text/plain": [
       "<Figure size 720x576 with 1 Axes>"
      ]
     },
     "metadata": {
      "needs_background": "light"
     },
     "output_type": "display_data"
    }
   ],
   "source": [
    "scores = []\n",
    "leaf_score = []\n",
    "\n",
    "min_samples_leaf = [1, 2, 5, 10, 15, 20, 25, 30, 35, 40, 45, 50]\n",
    "\n",
    "for i in min_samples_leaf:    \n",
    "    model = RandomForestClassifier(min_samples_leaf=i, n_jobs=-1, random_state=42)\n",
    "    model.fit(X_train_scaled, y_train)\n",
    "    y_pred = model.predict(X_test_scaled)\n",
    "    score = precision_score(y_test, y_pred)\n",
    "    scores.append(score)\n",
    "    leaf_score.append([i, score])\n",
    "    \n",
    "plt.figure(figsize=(10,8))\n",
    "plt.title(\"Min Samples Leaf vs Precision\")\n",
    "plt.xlabel(\"Min Samples Leaf\")\n",
    "plt.ylabel(\"Precision\")\n",
    "pd.Series(scores, min_samples_leaf).plot(kind='bar', color='#50589F')"
   ]
  },
  {
   "cell_type": "code",
   "execution_count": 32,
   "id": "1d676d99",
   "metadata": {},
   "outputs": [
    {
     "name": "stdout",
     "output_type": "stream",
     "text": [
      "min_samples_leaf: 1\n"
     ]
    }
   ],
   "source": [
    "id_leaf = pd.DataFrame(leaf_score, columns=['feature', 'score'])['score'].idxmax()\n",
    "leaf = pd.DataFrame(leaf_score, columns=['feature', 'score'])['feature'][id_leaf]\n",
    "print(\"min_samples_leaf:\", leaf)"
   ]
  },
  {
   "cell_type": "code",
   "execution_count": 33,
   "id": "99870422",
   "metadata": {},
   "outputs": [],
   "source": [
    "def random_forest_features(X_train, X_test, y_train, y_test):\n",
    "\n",
    "    estimators_score = []\n",
    "    n_estimators = [10, 20, 30, 50, 100, 200, 300, 400, 500, 1000]\n",
    "\n",
    "    for i in n_estimators:    \n",
    "        model = RandomForestClassifier(i, n_jobs=-1, random_state=42)\n",
    "        model.fit(X_train_scaled, y_train)\n",
    "        y_pred = model.predict(X_test_scaled)\n",
    "        score = precision_score(y_test, y_pred)\n",
    "        estimators_score.append([i, score])\n",
    "        \n",
    "    id_n = pd.DataFrame(estimators_score, columns=['feature', 'score'])['score'].idxmax()\n",
    "    n_estimator = pd.DataFrame(estimators_score, columns=['feature', 'score'])['feature'][id_n]\n",
    "    \n",
    "\n",
    "    features_score = []\n",
    "    max_features = ['auto', None, 'sqrt', 0.95, 0.75, 0.5, 0.25, 0.10]\n",
    "\n",
    "    for i in max_features:    \n",
    "        model = RandomForestClassifier(max_features=i, n_jobs=-1, random_state=42)\n",
    "        model.fit(X_train_scaled, y_train)\n",
    "        y_pred = model.predict(X_test_scaled)\n",
    "        score = precision_score(y_test, y_pred)\n",
    "        features_score.append([i, score])\n",
    "    \n",
    "    id_feature = pd.DataFrame(features_score, columns=['feature', 'score'])['score'].idxmax()\n",
    "    max_feature = pd.DataFrame(features_score, columns=['feature', 'score'])['feature'][id_feature]\n",
    "    \n",
    "    \n",
    "    leaf_score = []\n",
    "    min_samples_leaf = [1, 2, 5, 10, 15, 20, 25, 30, 35, 40, 45, 50]\n",
    "\n",
    "    for i in min_samples_leaf:    \n",
    "        model = RandomForestClassifier(min_samples_leaf=i, n_jobs=-1, random_state=42)\n",
    "        model.fit(X_train_scaled, y_train)\n",
    "        y_pred = model.predict(X_test_scaled)\n",
    "        score = precision_score(y_test, y_pred)\n",
    "        leaf_score.append([i, score])\n",
    "        \n",
    "    id_leaf = pd.DataFrame(leaf_score, columns=['feature', 'score'])['score'].idxmax()\n",
    "    leaf = pd.DataFrame(leaf_score, columns=['feature', 'score'])['feature'][id_leaf]\n",
    "    \n",
    "    \n",
    "    response = {\n",
    "        \"n_estimators\": n_estimator,\n",
    "        \"max_features\": max_feature,\n",
    "        \"min_samples_leaf\": leaf\n",
    "    }\n",
    "        \n",
    "    return response"
   ]
  },
  {
   "cell_type": "code",
   "execution_count": 34,
   "id": "6638068c",
   "metadata": {},
   "outputs": [
    {
     "data": {
      "text/plain": [
       "{'n_estimators': 20, 'max_features': 'auto', 'min_samples_leaf': 1}"
      ]
     },
     "execution_count": 34,
     "metadata": {},
     "output_type": "execute_result"
    }
   ],
   "source": [
    "random_forest_features(X_train_scaled, X_test_scaled, y_train, y_test)"
   ]
  }
 ],
 "metadata": {
  "kernelspec": {
   "display_name": "Python 3 (ipykernel)",
   "language": "python",
   "name": "python3"
  },
  "language_info": {
   "codemirror_mode": {
    "name": "ipython",
    "version": 3
   },
   "file_extension": ".py",
   "mimetype": "text/x-python",
   "name": "python",
   "nbconvert_exporter": "python",
   "pygments_lexer": "ipython3",
   "version": "3.8.8"
  }
 },
 "nbformat": 4,
 "nbformat_minor": 5
}
