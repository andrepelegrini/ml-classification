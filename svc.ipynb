{
 "cells": [
  {
   "cell_type": "code",
   "execution_count": 1,
   "id": "489b9045",
   "metadata": {},
   "outputs": [],
   "source": [
    "import pandas as pd\n",
    "import numpy as np\n",
    "import matplotlib.pyplot as plt\n",
    "import seaborn as sns\n",
    "\n",
    "# Data preparation and validation libraries\n",
    "from sklearn.model_selection import train_test_split\n",
    "from sklearn.metrics import precision_score\n",
    "from imblearn.over_sampling import SMOTE \n",
    "from sklearn.preprocessing import StandardScaler\n",
    "\n",
    "# Classifier libraries\n",
    "from sklearn.svm import SVC"
   ]
  },
  {
   "cell_type": "code",
   "execution_count": 2,
   "id": "5477dad3",
   "metadata": {},
   "outputs": [],
   "source": [
    "df = pd.read_csv('/Users/andresantospelegrinidasilva/Downloads/winequality-red.csv')"
   ]
  },
  {
   "cell_type": "code",
   "execution_count": 3,
   "id": "84a7eaf2",
   "metadata": {},
   "outputs": [],
   "source": [
    "df['quality'] = np.where(df['quality'] >= 7, 1, 0)"
   ]
  },
  {
   "cell_type": "markdown",
   "id": "953ee33f",
   "metadata": {},
   "source": [
    "### Preprocessing"
   ]
  },
  {
   "cell_type": "code",
   "execution_count": 4,
   "id": "3177c7b2",
   "metadata": {},
   "outputs": [
    {
     "name": "stdout",
     "output_type": "stream",
     "text": [
      "Train size:  (1279, 12)\n",
      "Test size:  (320, 12)\n"
     ]
    }
   ],
   "source": [
    "X_train, X_test = train_test_split(df, test_size=0.20, random_state=42)\n",
    "print(\"Train size: \", X_train.shape)\n",
    "print(\"Test size: \", X_test.shape)"
   ]
  },
  {
   "cell_type": "code",
   "execution_count": 5,
   "id": "b3c92e59",
   "metadata": {},
   "outputs": [],
   "source": [
    "def oversample_dataset(data):\n",
    "    X = data.drop(columns={'quality'})\n",
    "    y = data['quality']\n",
    "    \n",
    "    sm = SMOTE(random_state=42)\n",
    "    \n",
    "    X_sm, y_sm = sm.fit_resample(X, y)\n",
    "    sm_df = pd.concat([X_sm, y_sm], axis=1)\n",
    "    \n",
    "    return sm_df\n",
    "\n",
    "X_train_sm = oversample_dataset(X_train)"
   ]
  },
  {
   "cell_type": "code",
   "execution_count": 6,
   "id": "1cdbe8a0",
   "metadata": {},
   "outputs": [
    {
     "name": "stdout",
     "output_type": "stream",
     "text": [
      "Train size:  (2218, 11)\n",
      "Test size:  (320, 11)\n"
     ]
    }
   ],
   "source": [
    "y_train = X_train_sm['quality']\n",
    "y_test = X_test['quality']\n",
    "X_train = X_train_sm.drop(columns={'quality'})\n",
    "X_test = X_test.drop(columns={'quality'})\n",
    "\n",
    "print(\"Train size: \", X_train.shape)\n",
    "print(\"Test size: \", X_test.shape)"
   ]
  },
  {
   "cell_type": "code",
   "execution_count": 8,
   "id": "a7688468",
   "metadata": {},
   "outputs": [],
   "source": [
    "scaler = StandardScaler()\n",
    "\n",
    "scaler.fit(X_train)\n",
    "X_train_scaled = scaler.transform(X_train)\n",
    "\n",
    "X_test_scaled = scaler.transform(X_test)"
   ]
  },
  {
   "cell_type": "markdown",
   "id": "54e5c7ee",
   "metadata": {},
   "source": [
    "### Model"
   ]
  },
  {
   "cell_type": "code",
   "execution_count": 14,
   "id": "d161e03f",
   "metadata": {},
   "outputs": [
    {
     "data": {
      "text/plain": [
       "<AxesSubplot:title={'center':'Kernels vs Precision'}, xlabel='Kernels', ylabel='Precision'>"
      ]
     },
     "execution_count": 14,
     "metadata": {},
     "output_type": "execute_result"
    },
    {
     "data": {
      "image/png": "[encoded data removed]",
      "text/plain": [
       "<Figure size 720x576 with 1 Axes>"
      ]
     },
     "metadata": {
      "needs_background": "light"
     },
     "output_type": "display_data"
    }
   ],
   "source": [
    "scores = []\n",
    "kernel_score = []\n",
    "\n",
    "kernels = ['rbf', 'linear', 'poly', 'sigmoid']\n",
    "\n",
    "for i in kernels:    \n",
    "    model = SVC(kernel=i, random_state=42)\n",
    "    model.fit(X_train_scaled, y_train)\n",
    "    y_pred = model.predict(X_test_scaled)\n",
    "    score = precision_score(y_test, y_pred)\n",
    "    scores.append(score)\n",
    "    kernel_score.append([i, score])\n",
    "    \n",
    "plt.figure(figsize=(10,8))\n",
    "plt.title(\"Kernels vs Precision\")\n",
    "plt.xlabel(\"Kernels\")\n",
    "plt.ylabel(\"Precision\")\n",
    "pd.Series(scores, kernels).plot(kind='bar', color='#50589F')"
   ]
  },
  {
   "cell_type": "code",
   "execution_count": 24,
   "id": "b5b9f863",
   "metadata": {},
   "outputs": [
    {
     "name": "stdout",
     "output_type": "stream",
     "text": [
      "kernel: rbf\n"
     ]
    }
   ],
   "source": [
    "id_kernel = pd.DataFrame(kernel_score, columns=['feature', 'score'])['score'].idxmax()\n",
    "kernel = pd.DataFrame(kernel_score, columns=['feature', 'score'])['feature'][id_kernel]\n",
    "print(\"kernel:\", kernel)"
   ]
  },
  {
   "cell_type": "code",
   "execution_count": 23,
   "id": "c7195a62",
   "metadata": {},
   "outputs": [
    {
     "data": {
      "text/plain": [
       "<AxesSubplot:title={'center':'Regularization Parameter vs Precision'}, xlabel='C', ylabel='Precision'>"
      ]
     },
     "execution_count": 23,
     "metadata": {},
     "output_type": "execute_result"
    },
    {
     "data": {
      "image/png": "[encoded data removed]",
      "text/plain": [
       "<Figure size 720x576 with 1 Axes>"
      ]
     },
     "metadata": {
      "needs_background": "light"
     },
     "output_type": "display_data"
    }
   ],
   "source": [
    "scores = []\n",
    "C_score = []\n",
    "\n",
    "Cs = [10, 9, 8, 7, 6, 5, 4, 3, 2, 1, 0.5, 0.1, 0.05, 0.025]\n",
    "\n",
    "for i in Cs:    \n",
    "    model = SVC(C=i, random_state=42)\n",
    "    model.fit(X_train_scaled, y_train)\n",
    "    y_pred = model.predict(X_test_scaled)\n",
    "    score = precision_score(y_test, y_pred)\n",
    "    scores.append(score)\n",
    "    C_score.append([i, score])\n",
    "    \n",
    "plt.figure(figsize=(10,8))\n",
    "plt.title(\"Regularization Parameter vs Precision\")\n",
    "plt.xlabel(\"C\")\n",
    "plt.ylabel(\"Precision\")\n",
    "pd.Series(scores, Cs).plot(kind='bar', color='#50589F')"
   ]
  },
  {
   "cell_type": "code",
   "execution_count": 25,
   "id": "e2732c28",
   "metadata": {},
   "outputs": [
    {
     "name": "stdout",
     "output_type": "stream",
     "text": [
      "C: 6.0\n"
     ]
    }
   ],
   "source": [
    "id_c = pd.DataFrame(C_score, columns=['feature', 'score'])['score'].idxmax()\n",
    "C = pd.DataFrame(C_score, columns=['feature', 'score'])['feature'][id_c]\n",
    "print(\"C:\", C)"
   ]
  },
  {
   "cell_type": "code",
   "execution_count": 26,
   "id": "df5be4dc",
   "metadata": {},
   "outputs": [],
   "source": [
    "def svc_features(X_train, X_test, y_train, y_test):\n",
    "    \n",
    "    kernel_score = []\n",
    "    kernels = ['rbf', 'linear', 'poly', 'sigmoid']\n",
    "\n",
    "    for i in kernels:    \n",
    "        model = SVC(kernel=i, random_state=42)\n",
    "        model.fit(X_train_scaled, y_train)\n",
    "        y_pred = model.predict(X_test_scaled)\n",
    "        score = precision_score(y_test, y_pred)\n",
    "        kernel_score.append([i, score])\n",
    "        \n",
    "    id_kernel = pd.DataFrame(kernel_score, columns=['feature', 'score'])['score'].idxmax()\n",
    "    kernel = pd.DataFrame(kernel_score, columns=['feature', 'score'])['feature'][id_kernel]\n",
    "    \n",
    "    \n",
    "    C_score = []\n",
    "    Cs = [10, 9, 8, 7, 6, 5, 4, 3, 2, 1, 0.5, 0.1, 0.05, 0.025]\n",
    "\n",
    "    for i in Cs:    \n",
    "        model = SVC(C=i, random_state=42)\n",
    "        model.fit(X_train_scaled, y_train)\n",
    "        y_pred = model.predict(X_test_scaled)\n",
    "        score = precision_score(y_test, y_pred)\n",
    "        C_score.append([i, score])\n",
    "    \n",
    "    response = {\n",
    "        \"kernel\": kernel,\n",
    "        \"C\":C\n",
    "    }\n",
    "        \n",
    "    return response"
   ]
  },
  {
   "cell_type": "code",
   "execution_count": 27,
   "id": "6dd3eafc",
   "metadata": {},
   "outputs": [
    {
     "data": {
      "text/plain": [
       "{'kernel': 'rbf', 'C': 6.0}"
      ]
     },
     "execution_count": 27,
     "metadata": {},
     "output_type": "execute_result"
    }
   ],
   "source": [
    "svc_features(X_train_scaled, X_test_scaled, y_train, y_test)"
   ]
  }
 ],
 "metadata": {
  "kernelspec": {
   "display_name": "Python 3 (ipykernel)",
   "language": "python",
   "name": "python3"
  },
  "language_info": {
   "codemirror_mode": {
    "name": "ipython",
    "version": 3
   },
   "file_extension": ".py",
   "mimetype": "text/x-python",
   "name": "python",
   "nbconvert_exporter": "python",
   "pygments_lexer": "ipython3",
   "version": "3.8.8"
  }
 },
 "nbformat": 4,
 "nbformat_minor": 5
}
