{
 "cells": [
  {
   "cell_type": "markdown",
   "id": "a3859b76",
   "metadata": {},
   "source": [
    "Wine Quality Classification"
   ]
  },
  {
   "cell_type": "code",
   "execution_count": 1,
   "id": "6e41f331",
   "metadata": {},
   "outputs": [],
   "source": [
    "import pandas as pd\n",
    "import numpy as np\n",
    "import seaborn as sns\n",
    "import matplotlib.pyplot as plt\n",
    "\n",
    "from imblearn.over_sampling import SMOTE\n",
    "from sklearn.model_selection import train_test_split, cross_val_score\n",
    "from sklearn.preprocessing import StandardScaler\n",
    "\n",
    "from sklearn.tree import DecisionTreeClassifier\n",
    "from sklearn.svm import SVC\n",
    "from sklearn.naive_bayes import GaussianNB\n",
    "from sklearn.neighbors import KNeighborsClassifier\n",
    "from sklearn.ensemble import RandomForestClassifier\n",
    "\n",
    "from sklearn.metrics import precision_score, recall_score, f1_score"
   ]
  },
  {
   "cell_type": "code",
   "execution_count": 2,
   "id": "d412ba6f",
   "metadata": {},
   "outputs": [],
   "source": [
    "df = pd.read_csv('winequality-red.csv')"
   ]
  },
  {
   "cell_type": "code",
   "execution_count": 3,
   "id": "c53763e8",
   "metadata": {},
   "outputs": [
    {
     "data": {
      "text/html": [
       "<div>\n",
       "<style scoped>\n",
       "    .dataframe tbody tr th:only-of-type {\n",
       "        vertical-align: middle;\n",
       "    }\n",
       "\n",
       "    .dataframe tbody tr th {\n",
       "        vertical-align: top;\n",
       "    }\n",
       "\n",
       "    .dataframe thead th {\n",
       "        text-align: right;\n",
       "    }\n",
       "</style>\n",
       "<table border=\"1\" class=\"dataframe\">\n",
       "  <thead>\n",
       "    <tr style=\"text-align: right;\">\n",
       "      <th></th>\n",
       "      <th>fixed acidity</th>\n",
       "      <th>volatile acidity</th>\n",
       "      <th>citric acid</th>\n",
       "      <th>residual sugar</th>\n",
       "      <th>chlorides</th>\n",
       "      <th>free sulfur dioxide</th>\n",
       "      <th>total sulfur dioxide</th>\n",
       "      <th>density</th>\n",
       "      <th>pH</th>\n",
       "      <th>sulphates</th>\n",
       "      <th>alcohol</th>\n",
       "      <th>quality</th>\n",
       "    </tr>\n",
       "  </thead>\n",
       "  <tbody>\n",
       "    <tr>\n",
       "      <th>0</th>\n",
       "      <td>7.4</td>\n",
       "      <td>0.70</td>\n",
       "      <td>0.00</td>\n",
       "      <td>1.9</td>\n",
       "      <td>0.076</td>\n",
       "      <td>11.0</td>\n",
       "      <td>34.0</td>\n",
       "      <td>0.9978</td>\n",
       "      <td>3.51</td>\n",
       "      <td>0.56</td>\n",
       "      <td>9.4</td>\n",
       "      <td>5</td>\n",
       "    </tr>\n",
       "    <tr>\n",
       "      <th>1</th>\n",
       "      <td>7.8</td>\n",
       "      <td>0.88</td>\n",
       "      <td>0.00</td>\n",
       "      <td>2.6</td>\n",
       "      <td>0.098</td>\n",
       "      <td>25.0</td>\n",
       "      <td>67.0</td>\n",
       "      <td>0.9968</td>\n",
       "      <td>3.20</td>\n",
       "      <td>0.68</td>\n",
       "      <td>9.8</td>\n",
       "      <td>5</td>\n",
       "    </tr>\n",
       "    <tr>\n",
       "      <th>2</th>\n",
       "      <td>7.8</td>\n",
       "      <td>0.76</td>\n",
       "      <td>0.04</td>\n",
       "      <td>2.3</td>\n",
       "      <td>0.092</td>\n",
       "      <td>15.0</td>\n",
       "      <td>54.0</td>\n",
       "      <td>0.9970</td>\n",
       "      <td>3.26</td>\n",
       "      <td>0.65</td>\n",
       "      <td>9.8</td>\n",
       "      <td>5</td>\n",
       "    </tr>\n",
       "    <tr>\n",
       "      <th>3</th>\n",
       "      <td>11.2</td>\n",
       "      <td>0.28</td>\n",
       "      <td>0.56</td>\n",
       "      <td>1.9</td>\n",
       "      <td>0.075</td>\n",
       "      <td>17.0</td>\n",
       "      <td>60.0</td>\n",
       "      <td>0.9980</td>\n",
       "      <td>3.16</td>\n",
       "      <td>0.58</td>\n",
       "      <td>9.8</td>\n",
       "      <td>6</td>\n",
       "    </tr>\n",
       "    <tr>\n",
       "      <th>4</th>\n",
       "      <td>7.4</td>\n",
       "      <td>0.70</td>\n",
       "      <td>0.00</td>\n",
       "      <td>1.9</td>\n",
       "      <td>0.076</td>\n",
       "      <td>11.0</td>\n",
       "      <td>34.0</td>\n",
       "      <td>0.9978</td>\n",
       "      <td>3.51</td>\n",
       "      <td>0.56</td>\n",
       "      <td>9.4</td>\n",
       "      <td>5</td>\n",
       "    </tr>\n",
       "  </tbody>\n",
       "</table>\n",
       "</div>"
      ],
      "text/plain": [
       "   fixed acidity  volatile acidity  citric acid  residual sugar  chlorides  \\\n",
       "0            7.4              0.70         0.00             1.9      0.076   \n",
       "1            7.8              0.88         0.00             2.6      0.098   \n",
       "2            7.8              0.76         0.04             2.3      0.092   \n",
       "3           11.2              0.28         0.56             1.9      0.075   \n",
       "4            7.4              0.70         0.00             1.9      0.076   \n",
       "\n",
       "   free sulfur dioxide  total sulfur dioxide  density    pH  sulphates  \\\n",
       "0                 11.0                  34.0   0.9978  3.51       0.56   \n",
       "1                 25.0                  67.0   0.9968  3.20       0.68   \n",
       "2                 15.0                  54.0   0.9970  3.26       0.65   \n",
       "3                 17.0                  60.0   0.9980  3.16       0.58   \n",
       "4                 11.0                  34.0   0.9978  3.51       0.56   \n",
       "\n",
       "   alcohol  quality  \n",
       "0      9.4        5  \n",
       "1      9.8        5  \n",
       "2      9.8        5  \n",
       "3      9.8        6  \n",
       "4      9.4        5  "
      ]
     },
     "execution_count": 3,
     "metadata": {},
     "output_type": "execute_result"
    }
   ],
   "source": [
    "df.head()"
   ]
  },
  {
   "cell_type": "code",
   "execution_count": 4,
   "id": "741eb798",
   "metadata": {},
   "outputs": [
    {
     "name": "stdout",
     "output_type": "stream",
     "text": [
      "<class 'pandas.core.frame.DataFrame'>\n",
      "RangeIndex: 1599 entries, 0 to 1598\n",
      "Data columns (total 12 columns):\n",
      " #   Column                Non-Null Count  Dtype  \n",
      "---  ------                --------------  -----  \n",
      " 0   fixed acidity         1599 non-null   float64\n",
      " 1   volatile acidity      1599 non-null   float64\n",
      " 2   citric acid           1599 non-null   float64\n",
      " 3   residual sugar        1599 non-null   float64\n",
      " 4   chlorides             1599 non-null   float64\n",
      " 5   free sulfur dioxide   1599 non-null   float64\n",
      " 6   total sulfur dioxide  1599 non-null   float64\n",
      " 7   density               1599 non-null   float64\n",
      " 8   pH                    1599 non-null   float64\n",
      " 9   sulphates             1599 non-null   float64\n",
      " 10  alcohol               1599 non-null   float64\n",
      " 11  quality               1599 non-null   int64  \n",
      "dtypes: float64(11), int64(1)\n",
      "memory usage: 150.0 KB\n"
     ]
    }
   ],
   "source": [
    "df.info()"
   ]
  },
  {
   "cell_type": "markdown",
   "id": "62a0ac45",
   "metadata": {},
   "source": [
    "Let's suppose I am a very rigid wine drinker and I believe only wines ranked 8 or above are worth calling it good. In that case, the cut-off value will be at 8 therefore transforming my class into a binary column. 1 stands for good and 0 for bad."
   ]
  },
  {
   "cell_type": "code",
   "execution_count": 5,
   "id": "9f338f13",
   "metadata": {},
   "outputs": [],
   "source": [
    "df['quality'] = np.where(df['quality'] >= 7, 1, 0)"
   ]
  },
  {
   "cell_type": "code",
   "execution_count": 6,
   "id": "6b044979",
   "metadata": {},
   "outputs": [
    {
     "name": "stdout",
     "output_type": "stream",
     "text": [
      "Bad quality wine 86.43 %\n",
      "Good quality wine 13.57 %\n"
     ]
    }
   ],
   "source": [
    "print('Bad quality wine', round(df['quality'].value_counts()[0]/len(df) * 100,2),'%')\n",
    "print('Good quality wine', round(df['quality'].value_counts()[1]/len(df) * 100,2),'%')"
   ]
  },
  {
   "cell_type": "code",
   "execution_count": 7,
   "id": "a4a38d67",
   "metadata": {},
   "outputs": [
    {
     "name": "stderr",
     "output_type": "stream",
     "text": [
      "/Users/andresantospelegrinidasilva/opt/anaconda3/lib/python3.8/site-packages/seaborn/_decorators.py:36: FutureWarning: Pass the following variable as a keyword arg: x. From version 0.12, the only valid positional argument will be `data`, and passing other arguments without an explicit keyword will result in an error or misinterpretation.\n",
      "  warnings.warn(\n"
     ]
    },
    {
     "data": {
      "text/plain": [
       "Text(0.5, 1.0, 'Class Distributions \\n (1: Good quality wine || 1: Bad quality wine)')"
      ]
     },
     "execution_count": 7,
     "metadata": {},
     "output_type": "execute_result"
    },
    {
     "data": {
      "image/png": "[encoded data removed]",
      "text/plain": [
       "<Figure size 432x288 with 1 Axes>"
      ]
     },
     "metadata": {
      "needs_background": "light"
     },
     "output_type": "display_data"
    }
   ],
   "source": [
    "colors = [\"#0101DF\", \"#DF0101\"]\n",
    "\n",
    "sns.countplot('quality', data=df, palette=colors)\n",
    "plt.title('Class Distributions \\n (1: Good quality wine || 1: Bad quality wine)', fontsize=14)"
   ]
  },
  {
   "cell_type": "markdown",
   "id": "a991b29d",
   "metadata": {},
   "source": [
    "### Preprocessing"
   ]
  },
  {
   "cell_type": "markdown",
   "id": "a57e1c0d",
   "metadata": {},
   "source": [
    "As the class is imbalanced, a rebalance is required in order to better evaluate my model. As the dataset can be considered small, I'll go for oversampling using SMOTE, creating synthetic instances for my minor class until it reaches the same number of examples as my major class."
   ]
  },
  {
   "cell_type": "markdown",
   "id": "f9f70625",
   "metadata": {},
   "source": [
    "Before oversampling the dataset, it is necessary to split it into train and test as the test dataset must suffer any transformations"
   ]
  },
  {
   "cell_type": "code",
   "execution_count": 8,
   "id": "13ffe137",
   "metadata": {},
   "outputs": [
    {
     "name": "stdout",
     "output_type": "stream",
     "text": [
      "Train size:  (1279, 12)\n",
      "Test size:  (320, 12)\n"
     ]
    }
   ],
   "source": [
    "X_train, X_test = train_test_split(df, test_size=0.20, random_state=42)\n",
    "print(\"Train size: \", X_train.shape)\n",
    "print(\"Test size: \", X_test.shape)"
   ]
  },
  {
   "cell_type": "code",
   "execution_count": 9,
   "id": "cf2b53c1",
   "metadata": {},
   "outputs": [],
   "source": [
    "def oversample_dataset(data):\n",
    "    X = data.drop(columns={'quality'})\n",
    "    y = data['quality']\n",
    "    \n",
    "    sm = SMOTE(random_state=42)\n",
    "    \n",
    "    X_sm, y_sm = sm.fit_resample(X, y)\n",
    "    sm_df = pd.concat([X_sm, y_sm], axis=1)\n",
    "    \n",
    "    return sm_df\n",
    "\n",
    "X_train_sm = oversample_dataset(X_train)"
   ]
  },
  {
   "cell_type": "code",
   "execution_count": 10,
   "id": "49fb4ce9",
   "metadata": {},
   "outputs": [
    {
     "name": "stdout",
     "output_type": "stream",
     "text": [
      "Train size:  (2218, 11)\n",
      "Test size:  (320, 11)\n"
     ]
    }
   ],
   "source": [
    "y_train = X_train_sm['quality']\n",
    "y_test = X_test['quality']\n",
    "X_train = X_train_sm.drop(columns={'quality'})\n",
    "X_test = X_test.drop(columns={'quality'})\n",
    "\n",
    "print(\"Train size: \", X_train.shape)\n",
    "print(\"Test size: \", X_test.shape)"
   ]
  },
  {
   "cell_type": "code",
   "execution_count": 11,
   "id": "8267eb3a",
   "metadata": {},
   "outputs": [],
   "source": [
    "scaler = StandardScaler()\n",
    "\n",
    "scaler.fit(X_train)\n",
    "X_train_scaled = scaler.transform(X_train)\n",
    "\n",
    "X_test_scaled = scaler.transform(X_test)"
   ]
  },
  {
   "cell_type": "markdown",
   "id": "c50519cb",
   "metadata": {},
   "source": [
    "### Models"
   ]
  },
  {
   "cell_type": "code",
   "execution_count": 12,
   "id": "0c166465",
   "metadata": {},
   "outputs": [],
   "source": [
    "classifiers = {\n",
    "    \"Decision Tree\": DecisionTreeClassifier(max_depth=4, max_features=0.25, min_samples_leaf=5),\n",
    "    \"Support Vector Classifier\": SVC(kernel='poly', C=0.025, random_state=42),\n",
    "    'NaiveBayes': GaussianNB(),\n",
    "    'K-Nearest Neighbors': KNeighborsClassifier(n_neighbors=1),\n",
    "    \"Random Forest\": RandomForestClassifier(n_estimators=500, max_features=0.1, min_samples_leaf=5, \n",
    "                                            n_jobs=-1, random_state=42,),\n",
    "}"
   ]
  },
  {
   "cell_type": "code",
   "execution_count": 13,
   "id": "7200f64c",
   "metadata": {},
   "outputs": [],
   "source": [
    "classifiers = {\n",
    "    \"Decision Tree\": DecisionTreeClassifier(),\n",
    "    \"Support Vector Classifier\": SVC(),\n",
    "    'NaiveBayes': GaussianNB(),\n",
    "    'K-Nearest Neighbors': KNeighborsClassifier(),\n",
    "    \"Random Forest\": RandomForestClassifier(),\n",
    "}"
   ]
  },
  {
   "cell_type": "code",
   "execution_count": 14,
   "id": "84ca2334",
   "metadata": {},
   "outputs": [
    {
     "name": "stdout",
     "output_type": "stream",
     "text": [
      "DecisionTreeClassifier has a training score of 90.0 % accuracy score\n",
      "SVC has a training score of 87.0 % accuracy score\n",
      "GaussianNB has a training score of 79.0 % accuracy score\n",
      "KNeighborsClassifier has a training score of 88.0 % accuracy score\n",
      "RandomForestClassifier has a training score of 93.0 % accuracy score\n"
     ]
    }
   ],
   "source": [
    "for key, classifier in classifiers.items():\n",
    "    classifier.fit(X_train_scaled, y_train)\n",
    "    training_score = cross_val_score(classifier, X_train_scaled, y_train, cv=5)\n",
    "    print(classifier.__class__.__name__, \"has a training score of\", round(training_score.mean(), 2) * 100, \"% accuracy score\")"
   ]
  },
  {
   "cell_type": "code",
   "execution_count": 15,
   "id": "49cb42a4",
   "metadata": {},
   "outputs": [
    {
     "name": "stdout",
     "output_type": "stream",
     "text": [
      "DecisionTreeClassifier has a testing score of 83.0 % accuracy score\n",
      "SVC has a testing score of 86.0 % accuracy score\n",
      "GaussianNB has a testing score of 82.0 % accuracy score\n",
      "KNeighborsClassifier has a testing score of 85.0 % accuracy score\n",
      "RandomForestClassifier has a testing score of 86.0 % accuracy score\n"
     ]
    }
   ],
   "source": [
    "for key, classifier in classifiers.items():\n",
    "    classifier.fit(X_train_scaled, y_train)\n",
    "    testing_score = cross_val_score(classifier, X_test_scaled, y_test, cv=5)\n",
    "    print(classifier.__class__.__name__, \"has a testing score of\", round(testing_score.mean(), 2) * 100, \"% accuracy score\")"
   ]
  },
  {
   "cell_type": "code",
   "execution_count": 16,
   "id": "e96e38be",
   "metadata": {},
   "outputs": [
    {
     "name": "stdout",
     "output_type": "stream",
     "text": [
      "DecisionTreeClassifier has a training score of 0.64 f1 score\n",
      "SVC has a training score of 0.64 f1 score\n",
      "GaussianNB has a training score of 0.48 f1 score\n",
      "KNeighborsClassifier has a training score of 0.55 f1 score\n",
      "RandomForestClassifier has a training score of 0.73 f1 score\n"
     ]
    }
   ],
   "source": [
    "for key, classifier in classifiers.items():\n",
    "    classifier.fit(X_train_scaled, y_train)\n",
    "    y_test_pred = classifier.predict(X_test_scaled)\n",
    "    print(classifier.__class__.__name__, \"has a training score of\", round(f1_score(y_test, y_test_pred), 2), \"f1 score\")"
   ]
  },
  {
   "cell_type": "code",
   "execution_count": 17,
   "id": "069e2b0d",
   "metadata": {},
   "outputs": [
    {
     "name": "stdout",
     "output_type": "stream",
     "text": [
      "DecisionTreeClassifier has a training score of 0.54 precision score\n",
      "SVC has a training score of 0.51 precision score\n",
      "GaussianNB has a training score of 0.34 precision score\n",
      "KNeighborsClassifier has a training score of 0.41 precision score\n",
      "RandomForestClassifier has a training score of 0.67 precision score\n"
     ]
    }
   ],
   "source": [
    "for key, classifier in classifiers.items():\n",
    "    classifier.fit(X_train_scaled, y_train)\n",
    "    y_test_pred = classifier.predict(X_test_scaled)\n",
    "    print(classifier.__class__.__name__, \"has a training score of\", round(precision_score(y_test, y_test_pred), 2), \"precision score\")"
   ]
  },
  {
   "cell_type": "code",
   "execution_count": 18,
   "id": "4405cdd9",
   "metadata": {},
   "outputs": [
    {
     "name": "stdout",
     "output_type": "stream",
     "text": [
      "DecisionTreeClassifier has a training score of 0.79 recall score\n",
      "SVC has a training score of 0.87 recall score\n",
      "GaussianNB has a training score of 0.81 recall score\n",
      "KNeighborsClassifier has a training score of 0.83 recall score\n",
      "RandomForestClassifier has a training score of 0.81 recall score\n"
     ]
    }
   ],
   "source": [
    "for key, classifier in classifiers.items():\n",
    "    classifier.fit(X_train_scaled, y_train)\n",
    "    y_test_pred = classifier.predict(X_test_scaled)\n",
    "    print(classifier.__class__.__name__, \"has a training score of\", round(recall_score(y_test, y_test_pred), 2), \"recall score\")"
   ]
  }
 ],
 "metadata": {
  "kernelspec": {
   "display_name": "Python 3 (ipykernel)",
   "language": "python",
   "name": "python3"
  },
  "language_info": {
   "codemirror_mode": {
    "name": "ipython",
    "version": 3
   },
   "file_extension": ".py",
   "mimetype": "text/x-python",
   "name": "python",
   "nbconvert_exporter": "python",
   "pygments_lexer": "ipython3",
   "version": "3.8.8"
  }
 },
 "nbformat": 4,
 "nbformat_minor": 5
}
