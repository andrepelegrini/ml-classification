{
 "cells": [
  {
   "cell_type": "code",
   "execution_count": 115,
   "id": "489b9045",
   "metadata": {},
   "outputs": [],
   "source": [
    "import pandas as pd\n",
    "import numpy as np\n",
    "import matplotlib.pyplot as plt\n",
    "import seaborn as sns\n",
    "\n",
    "# Data preparation and validation libraries\n",
    "from sklearn.model_selection import train_test_split\n",
    "from sklearn.metrics import precision_score\n",
    "from imblearn.over_sampling import SMOTE\n",
    "from sklearn.preprocessing import StandardScaler\n",
    "\n",
    "# Classifier libraries\n",
    "from sklearn.tree import DecisionTreeClassifier"
   ]
  },
  {
   "cell_type": "code",
   "execution_count": 116,
   "id": "f5019c86",
   "metadata": {},
   "outputs": [],
   "source": [
    "df = pd.read_csv('winequality-red.csv')"
   ]
  },
  {
   "cell_type": "code",
   "execution_count": 117,
   "id": "458eabfe",
   "metadata": {},
   "outputs": [],
   "source": [
    "df['quality'] = np.where(df['quality'] >= 7, 1, 0)"
   ]
  },
  {
   "cell_type": "markdown",
   "id": "ab9f6b60",
   "metadata": {},
   "source": [
    "### Preprocessing"
   ]
  },
  {
   "cell_type": "code",
   "execution_count": 118,
   "id": "d218583a",
   "metadata": {},
   "outputs": [
    {
     "name": "stdout",
     "output_type": "stream",
     "text": [
      "Train size:  (1279, 12)\n",
      "Test size:  (320, 12)\n"
     ]
    }
   ],
   "source": [
    "X_train, X_test = train_test_split(df, test_size=0.20, random_state=42)\n",
    "print(\"Train size: \", X_train.shape)\n",
    "print(\"Test size: \", X_test.shape)"
   ]
  },
  {
   "cell_type": "code",
   "execution_count": 119,
   "id": "8c17bd84",
   "metadata": {},
   "outputs": [],
   "source": [
    "def oversample_dataset(data):\n",
    "    X = data.drop(columns={'quality'})\n",
    "    y = data['quality']\n",
    "    \n",
    "    sm = SMOTE(random_state=42)\n",
    "    \n",
    "    X_sm, y_sm = sm.fit_resample(X, y)\n",
    "    sm_df = pd.concat([X_sm, y_sm], axis=1)\n",
    "    \n",
    "    return sm_df\n",
    "\n",
    "X_train_sm = oversample_dataset(X_train)"
   ]
  },
  {
   "cell_type": "code",
   "execution_count": 120,
   "id": "2e331e30",
   "metadata": {},
   "outputs": [
    {
     "name": "stdout",
     "output_type": "stream",
     "text": [
      "Train size:  (2218, 11)\n",
      "Test size:  (320, 11)\n"
     ]
    }
   ],
   "source": [
    "y_train = X_train_sm['quality']\n",
    "y_test = X_test['quality']\n",
    "X_train = X_train_sm.drop(columns={'quality'})\n",
    "X_test = X_test.drop(columns={'quality'})\n",
    "\n",
    "print(\"Train size: \", X_train.shape)\n",
    "print(\"Test size: \", X_test.shape)"
   ]
  },
  {
   "cell_type": "code",
   "execution_count": 121,
   "id": "ed66e024",
   "metadata": {},
   "outputs": [],
   "source": [
    "scaler = StandardScaler()\n",
    "\n",
    "scaler.fit(X_train)\n",
    "X_train_scaled = scaler.transform(X_train)\n",
    "\n",
    "X_test_scaled = scaler.transform(X_test)"
   ]
  },
  {
   "cell_type": "markdown",
   "id": "4abd827a",
   "metadata": {},
   "source": [
    "### Model"
   ]
  },
  {
   "cell_type": "code",
   "execution_count": 156,
   "id": "8064705d",
   "metadata": {},
   "outputs": [
    {
     "data": {
      "text/plain": [
       "<AxesSubplot:title={'center':'Max Depth vs Precision'}, xlabel='Max Depth', ylabel='Precision'>"
      ]
     },
     "execution_count": 156,
     "metadata": {},
     "output_type": "execute_result"
    },
    {
     "data": {
      "image/png": "[encoded data removed]",
      "text/plain": [
       "<Figure size 720x576 with 1 Axes>"
      ]
     },
     "metadata": {
      "needs_background": "light"
     },
     "output_type": "display_data"
    }
   ],
   "source": [
    "scores = []\n",
    "depth = []\n",
    "\n",
    "max_depths = [2, 4, 6, 8, 10, 12, 14, 16, 18, 20]\n",
    "\n",
    "for i in max_depths:\n",
    "    model = DecisionTreeClassifier(max_depth=i, random_state=42)\n",
    "    model.fit(X_train_scaled, y_train)\n",
    "    y_pred = model.predict(X_test_scaled)\n",
    "    score = precision_score(y_test, y_pred)\n",
    "    scores.append(score)\n",
    "    depth.append([i, score])\n",
    "    \n",
    "plt.figure(figsize=(10,8))\n",
    "plt.title(\"Max Depth vs Precision\")\n",
    "plt.xlabel(\"Max Depth\")\n",
    "plt.ylabel(\"Precision\")\n",
    "pd.Series(scores, max_depths).plot(kind='bar', color=\"#50589F\")"
   ]
  },
  {
   "cell_type": "code",
   "execution_count": 158,
   "id": "14038212",
   "metadata": {},
   "outputs": [
    {
     "name": "stdout",
     "output_type": "stream",
     "text": [
      "max_depth: 10\n"
     ]
    }
   ],
   "source": [
    "id_depth = pd.DataFrame(depth, columns=['feature', 'score'])['score'].idxmax()\n",
    "max_depth = pd.DataFrame(depth, columns=['feature', 'score'])['feature'][id_depth]\n",
    "print(\"max_depth:\", max_depth)"
   ]
  },
  {
   "cell_type": "code",
   "execution_count": 151,
   "id": "76bc713a",
   "metadata": {},
   "outputs": [
    {
     "data": {
      "text/plain": [
       "<AxesSubplot:title={'center':'Max Features vs Precision'}, xlabel='Max Features', ylabel='Precision'>"
      ]
     },
     "execution_count": 151,
     "metadata": {},
     "output_type": "execute_result"
    },
    {
     "data": {
      "image/png": "[encoded data removed]",
      "text/plain": [
       "<Figure size 720x576 with 1 Axes>"
      ]
     },
     "metadata": {
      "needs_background": "light"
     },
     "output_type": "display_data"
    }
   ],
   "source": [
    "scores = []\n",
    "features = []\n",
    "\n",
    "max_features = ['auto', None, 'sqrt', 0.95, 0.75, 0.5, 0.25, 0.10]\n",
    "\n",
    "for i in max_features:\n",
    "    model = DecisionTreeClassifier(max_features=i, random_state=42)\n",
    "    model.fit(X_train_scaled, y_train)\n",
    "    y_pred = model.predict(X_test_scaled)\n",
    "    score = precision_score(y_test, y_pred)\n",
    "    scores.append(score)\n",
    "    features.append([i, score])\n",
    "    \n",
    "plt.figure(figsize=(10,8))\n",
    "plt.title(\"Max Features vs Precision\")\n",
    "plt.xlabel(\"Max Features\")\n",
    "plt.ylabel(\"Precision\")\n",
    "pd.Series(scores, max_features).plot(kind='bar', color=\"#50589F\")"
   ]
  },
  {
   "cell_type": "code",
   "execution_count": 159,
   "id": "0e795a4f",
   "metadata": {},
   "outputs": [
    {
     "name": "stdout",
     "output_type": "stream",
     "text": [
      "max_features: auto\n"
     ]
    }
   ],
   "source": [
    "id_features = pd.DataFrame(features, columns=['feature', 'score'])['score'].idxmax()\n",
    "max_features = pd.DataFrame(features, columns=['feature', 'score'])['feature'][id_features]\n",
    "print(\"max_features:\", max_features)"
   ]
  },
  {
   "cell_type": "code",
   "execution_count": 150,
   "id": "72293694",
   "metadata": {},
   "outputs": [
    {
     "data": {
      "text/plain": [
       "<AxesSubplot:title={'center':'Min Samples Leaf vs Precision'}, xlabel='Min Samples Leaf', ylabel='Precision'>"
      ]
     },
     "execution_count": 150,
     "metadata": {},
     "output_type": "execute_result"
    },
    {
     "data": {
      "image/png": "[encoded data removed]",
      "text/plain": [
       "<Figure size 720x576 with 1 Axes>"
      ]
     },
     "metadata": {
      "needs_background": "light"
     },
     "output_type": "display_data"
    }
   ],
   "source": [
    "scores = []\n",
    "leafs = []\n",
    "\n",
    "min_samples_leaf = [5, 10, 15, 20, 25, 30, 35, 40, 45, 50]\n",
    "\n",
    "for i in min_samples_leaf:\n",
    "    model = DecisionTreeClassifier(min_samples_leaf=i, random_state=42)\n",
    "    model.fit(X_train_scaled, y_train)\n",
    "    y_pred = model.predict(X_test_scaled)\n",
    "    score = precision_score(y_test, y_pred)\n",
    "    scores.append(score)\n",
    "    leafs.append([i, score])\n",
    "    \n",
    "plt.figure(figsize=(10,8))\n",
    "plt.title(\"Min Samples Leaf vs Precision\")\n",
    "plt.xlabel(\"Min Samples Leaf\")\n",
    "plt.ylabel(\"Precision\")\n",
    "pd.Series(scores, min_samples_leaf).plot(kind='bar', color=\"#50589F\")"
   ]
  },
  {
   "cell_type": "code",
   "execution_count": 160,
   "id": "0a9020c5",
   "metadata": {},
   "outputs": [
    {
     "name": "stdout",
     "output_type": "stream",
     "text": [
      "min_samples_leaf: 5\n"
     ]
    }
   ],
   "source": [
    "id_leaf = pd.DataFrame(leafs, columns=['feature', 'score'])['score'].idxmax()\n",
    "min_samples_leaf = pd.DataFrame(leafs, columns=['feature', 'score'])['feature'][id_leaf]\n",
    "print(\"min_samples_leaf:\", min_samples_leaf)"
   ]
  },
  {
   "cell_type": "markdown",
   "id": "914d2fa8",
   "metadata": {},
   "source": [
    "The code below brings all parameters chosen above and returns the best for each one of them according to your dataset."
   ]
  },
  {
   "cell_type": "code",
   "execution_count": 161,
   "id": "5dc3ff83",
   "metadata": {},
   "outputs": [],
   "source": [
    "def decision_tree_features(X_train, X_test, y_train, y_test):\n",
    "\n",
    "    depths = []\n",
    "    max_depths = [2, 4, 6, 8, 10, 12, 14, 16, 18, 20]\n",
    "    for i in max_depths:\n",
    "        model = DecisionTreeClassifier(max_depth=i, random_state=42)\n",
    "        model.fit(X_train, y_train)\n",
    "        y_pred = model.predict(X_test)\n",
    "        score = precision_score(y_test, y_pred)\n",
    "        depths.append([i, score])\n",
    "        \n",
    "    id_depth = pd.DataFrame(depths, columns=['feature', 'score'])['score'].idxmax()\n",
    "    max_depth = pd.DataFrame(depths, columns=['feature', 'score'])['feature'][id_depth]\n",
    "    \n",
    "    features = []\n",
    "    max_features = ['auto', None, 'sqrt', 0.95, 0.75, 0.5, 0.25, 0.10]\n",
    "    for i in max_features:\n",
    "        model = DecisionTreeClassifier(max_features=i, random_state=42)\n",
    "        model.fit(X_train, y_train)\n",
    "        y_pred = model.predict(X_test)\n",
    "        score = precision_score(y_test, y_pred)\n",
    "        features.append([i, score])\n",
    "\n",
    "    id_feature = pd.DataFrame(features, columns=['feature', 'score'])['score'].idxmax()\n",
    "    max_features = pd.DataFrame(features, columns=['feature', 'score'])['feature'][id_feature]\n",
    "    \n",
    "    leafs = []\n",
    "    min_samples_leaf = [5, 10, 15, 20, 25, 30, 35, 40, 45, 50]\n",
    "    for i in min_samples_leaf:\n",
    "        model = DecisionTreeClassifier(min_samples_leaf=i, random_state=42)\n",
    "        model.fit(X_train, y_train)\n",
    "        y_pred = model.predict(X_test)\n",
    "        score = precision_score(y_test, y_pred)\n",
    "        leafs.append([i, score])\n",
    "        \n",
    "    id_leaf = pd.DataFrame(leafs, columns=['feature', 'score'])['score'].idxmax()\n",
    "    min_samples_leaf = pd.DataFrame(leafs, columns=['feature', 'score'])['feature'][id_leaf]\n",
    "    \n",
    "    response = {\n",
    "        \"max_depth\": max_depth,\n",
    "        \"max_features\": max_features,\n",
    "        \"min_samples_leaf\": min_samples_leaf\n",
    "    }\n",
    "        \n",
    "    return response"
   ]
  },
  {
   "cell_type": "code",
   "execution_count": 162,
   "id": "38a2ac67",
   "metadata": {},
   "outputs": [
    {
     "data": {
      "text/plain": [
       "{'max_depth': 10, 'max_features': 'auto', 'min_samples_leaf': 5}"
      ]
     },
     "execution_count": 162,
     "metadata": {},
     "output_type": "execute_result"
    }
   ],
   "source": [
    "decision_tree_features(X_train_scaled, X_test_scaled, y_train, y_test)"
   ]
  }
 ],
 "metadata": {
  "kernelspec": {
   "display_name": "Python 3 (ipykernel)",
   "language": "python",
   "name": "python3"
  },
  "language_info": {
   "codemirror_mode": {
    "name": "ipython",
    "version": 3
   },
   "file_extension": ".py",
   "mimetype": "text/x-python",
   "name": "python",
   "nbconvert_exporter": "python",
   "pygments_lexer": "ipython3",
   "version": "3.8.8"
  }
 },
 "nbformat": 4,
 "nbformat_minor": 5
}
